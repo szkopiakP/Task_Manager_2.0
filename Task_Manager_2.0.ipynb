{
 "cells": [
  {
   "cell_type": "markdown",
   "id": "fbf34b3b",
   "metadata": {},
   "source": [
    "# In this project I focused on _modifying_ famous 'to do list' from tutorials to _create upgraded version_. I will implement features which increase protection, using `try - except` statement, from incorrect data input during program use and more complex (for me of course) operation.\n",
    "\n",
    "### 1. In first step I'll import all bibliotecs what I'll need in this project.\n",
    "\n",
    "#### The `sys`  is necessary program operation."
   ]
  },
  {
   "cell_type": "code",
   "execution_count": null,
   "id": "1e03873a",
   "metadata": {},
   "outputs": [],
   "source": [
    "import sys"
   ]
  },
  {
   "cell_type": "markdown",
   "id": "7204d521",
   "metadata": {},
   "source": [
    "### 2. In second step I'll create lists for current, completed tasks and list for decision options."
   ]
  },
  {
   "cell_type": "code",
   "execution_count": null,
   "id": "4ff441ef",
   "metadata": {},
   "outputs": [],
   "source": [
    "current = []\n",
    "completed = []\n",
    "decision = [\"YES\", \"NO\"]"
   ]
  },
  {
   "cell_type": "markdown",
   "id": "c6b13fc0",
   "metadata": {},
   "source": [
    "### 3. Next I'll create neceseary functions for proper program operation. Some functions will have abort option and incorrect input protection:\n",
    "> #### 3.1. Function for loading current tasks from exterior file."
   ]
  },
  {
   "cell_type": "code",
   "execution_count": null,
   "id": "54d2ee8d",
   "metadata": {},
   "outputs": [],
   "source": [
    "def load_current_from_file():\n",
    "    try:\n",
    "        file = open(\"Current tasks\")\n",
    "        for line in file.readlines():\n",
    "            current.append(line.strip())\n",
    "        file.close()\n",
    "    except FileNotFoundError:\n",
    "        return"
   ]
  },
  {
   "cell_type": "markdown",
   "id": "cf0d56c8",
   "metadata": {},
   "source": [
    "> #### 3.2. Function for loading completed tasks from exterior file."
   ]
  },
  {
   "cell_type": "code",
   "execution_count": null,
   "id": "2fa749b3",
   "metadata": {},
   "outputs": [],
   "source": [
    "def load_completed_from_file():\n",
    "    try:\n",
    "        file = open(\"Tasks completed\")\n",
    "        for line in file.readlines():\n",
    "            completed.append(line.strip())\n",
    "        file.close()\n",
    "    except FileNotFoundError:\n",
    "        return"
   ]
  },
  {
   "cell_type": "markdown",
   "id": "779acc9f",
   "metadata": {},
   "source": [
    "> #### 3.3. Function for saving current and completed tasks in exterior files."
   ]
  },
  {
   "cell_type": "code",
   "execution_count": null,
   "id": "f55d99d3",
   "metadata": {},
   "outputs": [],
   "source": [
    "def save_files():\n",
    "    file = open(\"Current tasks\", \"w\")\n",
    "    for task in current:\n",
    "        file.write(task + \"\\n\")\n",
    "    file.close()\n",
    "    file2 = open(\"Tasks completed\", \"w\")\n",
    "    for item in completed:\n",
    "        file2.write(item + \"\\n\")\n",
    "    file2.close()\n",
    "    print(\"All changes have been saved.\")"
   ]
  },
  {
   "cell_type": "markdown",
   "id": "c2f1e1cb",
   "metadata": {},
   "source": [
    "> #### 3.4. Function for saving current tasks in exterior files."
   ]
  },
  {
   "cell_type": "code",
   "execution_count": null,
   "id": "cd365552",
   "metadata": {},
   "outputs": [],
   "source": [
    "def show_decision(sentence):\n",
    "    index = 0\n",
    "    print(sentence + f\" If NO you'll abort and go back to main menu.\\n\")\n",
    "    for number, pick in enumerate(decision, start=1):\n",
    "        print(str(number) + \". \" + pick + \" [\" + str(index) + \"]\")\n",
    "        index += 1\n",
    "    print()"
   ]
  },
  {
   "cell_type": "markdown",
   "id": "46f2c6b5",
   "metadata": {},
   "source": [
    "> #### 3.5. Function which showing current tasks."
   ]
  },
  {
   "cell_type": "code",
   "execution_count": null,
   "id": "c0b96b06",
   "metadata": {},
   "outputs": [],
   "source": [
    "def show_tasks():\n",
    "    if len(current) == 0:\n",
    "        print(f\"The list is empty, there is nothing to view.\\n\")\n",
    "    else:\n",
    "        print(f\"Current tasks list:\\n\")\n",
    "        for number, task in enumerate(current, start=1):\n",
    "            print(str(number) + \". \" + task)\n",
    "        print()"
   ]
  },
  {
   "cell_type": "markdown",
   "id": "dfcb90ce",
   "metadata": {},
   "source": [
    "> #### 3.6. Function which giving current tasks list to manipulate with."
   ]
  },
  {
   "cell_type": "code",
   "execution_count": null,
   "id": "f075d1fc",
   "metadata": {},
   "outputs": [],
   "source": [
    "def show_tasks_2():\n",
    "    index = 0\n",
    "    print(f\"Current tasks list:\\n\")\n",
    "    for number, task in enumerate(current, start=1):\n",
    "        print(str(number) + \". \" + task + \" [\" + str(index) + \"]\")\n",
    "        index += 1\n",
    "    print()"
   ]
  },
  {
   "cell_type": "markdown",
   "id": "51a28064",
   "metadata": {},
   "source": [
    "> #### 3.7. Function use to add tasks to list."
   ]
  },
  {
   "cell_type": "code",
   "execution_count": null,
   "id": "d7cd971a",
   "metadata": {},
   "outputs": [],
   "source": [
    "def add_to_list():\n",
    "    while True:\n",
    "        try:\n",
    "            show_decision(\"Do you want to add task to the list?\")\n",
    "            choice = int(input(\"Enter the index [n] of the selected option: \"))\n",
    "            print()\n",
    "            if choice == 0:\n",
    "                task = input(\"Enter the content of the task: \")\n",
    "                print()\n",
    "                current.append(task)\n",
    "                print(f\"The task has been added.\\n\")                \n",
    "                break\n",
    "            if choice == 1:\n",
    "                print(f\"Back to main menu.\\n\")\n",
    "                break\n",
    "            else:\n",
    "                print(f\"The index given is out of range, try again.\\n\")\n",
    "        except ValueError:\n",
    "            print()\n",
    "            print(f\"The specified character is not supported, try again.\\n\")"
   ]
  },
  {
   "cell_type": "markdown",
   "id": "f26d502d",
   "metadata": {},
   "source": [
    "> #### 3.8. Function use to delete tasks from list."
   ]
  },
  {
   "cell_type": "code",
   "execution_count": null,
   "id": "f4fae4dc",
   "metadata": {},
   "outputs": [],
   "source": [
    "def delete_from_list():\n",
    "    while True:\n",
    "        try:\n",
    "            show_decision(\"Do you want to delete task from the list?\")\n",
    "            choice = int(input(\"Enter the index [n] of the task you want to delete: \"))\n",
    "            print()            \n",
    "            if choice == 0:\n",
    "                if len(current) == 0:\n",
    "                    print(f\"The list is empty, there is nothing to clear. Back to main menu.\\n\")\n",
    "                    break\n",
    "                else:\n",
    "                    show_tasks_2()\n",
    "                    choice = int(input(\"Enter the index [n] of the task you want to delete: \"))\n",
    "                    print()\n",
    "                    if choice in range(len(current)):\n",
    "                        current.pop(choice)\n",
    "                        print(f\"The task has been deleted.\\n\")\n",
    "                        break\n",
    "                    else:\n",
    "                        print(f\"The index given is out of range, try again.\\n\")\n",
    "            elif choice == 1:\n",
    "                print(f\"Back to main menu.\\n\")\n",
    "                break\n",
    "            else:\n",
    "                print(f\"The index given is out of range, try again.\\n\")\n",
    "        except ValueError:\n",
    "            print()\n",
    "            print(f\"The specified character is not supported, try again.\\n\")"
   ]
  },
  {
   "cell_type": "markdown",
   "id": "d7e58363",
   "metadata": {},
   "source": [
    "> #### 3.9. Function use to transfer current task to completed tasks list."
   ]
  },
  {
   "cell_type": "code",
   "execution_count": null,
   "id": "bce224a3",
   "metadata": {},
   "outputs": [],
   "source": [
    "def transfer_task():\n",
    "    while True:\n",
    "        try:\n",
    "            show_decision(\"Do you want to transfer task(s) to completed tasks list?\")\n",
    "            choice = int(input(\"Enter the index [n] of the task you want to transfer: \"))\n",
    "            print()            \n",
    "            if choice == 0:\n",
    "                if len(current) == 0:\n",
    "                    print(f\"The list is empty, there is nothing to transfer. Back to main menu.\\n\")\n",
    "                    break\n",
    "                else:\n",
    "                    show_tasks_2()\n",
    "                    choice = int(input(\"Enter the index [n] of the task you want to transfer: \"))\n",
    "                    print()\n",
    "                    if choice in range(len(current)):\n",
    "                        transfer = completed.insert(len(completed) + 1, current.pop(choice))\n",
    "                        print(f\"The selected task has been moved to completed tasks.\\n\")\n",
    "                        break\n",
    "                    else:\n",
    "                        print(f\"The index given is out of range, try again.\\n\")\n",
    "            elif choice == 1:\n",
    "                print(f\"Back to main menu.\\n\")\n",
    "                break\n",
    "            else:\n",
    "                print(f\"The index given is out of range, try again.\\n\")\n",
    "        except ValueError:\n",
    "            print()\n",
    "            print(f\"The specified character is not supported, try again.\\n\")"
   ]
  },
  {
   "cell_type": "markdown",
   "id": "6da91652",
   "metadata": {},
   "source": [
    "> #### 3.10. Function use to transfer all task to completed tasks list."
   ]
  },
  {
   "cell_type": "code",
   "execution_count": null,
   "id": "70fd36a5",
   "metadata": {},
   "outputs": [],
   "source": [
    "def transfer_all():\n",
    "    while True:\n",
    "        try:\n",
    "            show_decision(\"Do you want to transfer task(s) to completed tasks list?\")\n",
    "            choice = int(input(\"Enter the index [n] choice you want to make: \"))\n",
    "            print()            \n",
    "            if choice == 0:\n",
    "                if len(current) == 0:\n",
    "                    print(f\"The list is empty, there is nothing to transfer. Back to main menu.\\n\")\n",
    "                    break\n",
    "                else:\n",
    "                    for task in current:\n",
    "                        completed.append(task)\n",
    "                        current.clear()\n",
    "                        print(f\"All tasks have been transferred.\\n\")\n",
    "                        print(f\"Current tasks list now is empty.\\n\")\n",
    "                        show_completed()\n",
    "                        break\n",
    "                    else:\n",
    "                        print(f\"The index given is out of range, try again.\\n\")\n",
    "            elif choice == 1:\n",
    "                print(f\"Back to main menu.\\n\")\n",
    "                break\n",
    "            else:\n",
    "                print(f\"The index given is out of range, try again.\\n\")\n",
    "        except ValueError:\n",
    "            print()\n",
    "            print(f\"The specified character is not supported, try again.\\n\")"
   ]
  },
  {
   "cell_type": "markdown",
   "id": "72dcaa14",
   "metadata": {},
   "source": [
    "> #### 3.11. Function use to show completed tasks list."
   ]
  },
  {
   "cell_type": "code",
   "execution_count": null,
   "id": "f93ba87c",
   "metadata": {},
   "outputs": [],
   "source": [
    "def show_completed():\n",
    "    if len(completed) == 0:\n",
    "        print(f\"The list is empty, there is nothing to view.\\n\")\n",
    "    else:\n",
    "        print(f\"List of tasks completed:\\n\")\n",
    "        for number, item in enumerate(completed, start=1):\n",
    "            print(str(number) + \". \" + item)"
   ]
  },
  {
   "cell_type": "markdown",
   "id": "9d1a97b2",
   "metadata": {},
   "source": [
    "> #### 3.12. Function use to clear completed tasks list."
   ]
  },
  {
   "cell_type": "code",
   "execution_count": null,
   "id": "e526d9d7",
   "metadata": {},
   "outputs": [],
   "source": [
    "def clear_list():\n",
    "    while True:\n",
    "        try:\n",
    "            if len(completed) == 0:\n",
    "                print(f\"The list is empty, there is nothing to clear. Back to main menu.\\n\")\n",
    "                break\n",
    "            else:\n",
    "                show_completed()\n",
    "                show_decision(\"Do you want to clear completed tasks list?\")\n",
    "                choice = int(input(\"Enter the index [n] of the task you want to delete: \"))\n",
    "                print()\n",
    "                if choice == 0:\n",
    "                    completed.clear()\n",
    "                    print(f\"The list has been cleared.\\n\")\n",
    "                    break\n",
    "                elif choice == 1:\n",
    "                    print(f\"Back to main menu.\\n\")\n",
    "                    break\n",
    "                else:\n",
    "                    print(f\"The index given is out of range, try again.\\n\")\n",
    "        except ValueError:\n",
    "            print(f\"The specified character is not supported, try again.\\n\")"
   ]
  },
  {
   "cell_type": "markdown",
   "id": "43843fd4",
   "metadata": {},
   "source": [
    "> #### 3.13. Exit program function."
   ]
  },
  {
   "cell_type": "code",
   "execution_count": null,
   "id": "8776bfb8",
   "metadata": {},
   "outputs": [],
   "source": [
    "def exit_system():\n",
    "    while True:\n",
    "        try:\n",
    "            show_decision(\"Do you want to terminate the program?\")\n",
    "            choice = int(input(\"Enter the index [n] of the selected option: \"))\n",
    "            print()\n",
    "            if choice == 0:\n",
    "                save_files()\n",
    "                print(\"The program has completed its work. See you there.\")\n",
    "                sys.exit(0)\n",
    "            if choice == 1:\n",
    "                print(f\"Back to main menu.\\n\")\n",
    "                break\n",
    "            else:\n",
    "                print(f\"The index given is out of range, try again.\\n\")\n",
    "        except ValueError:\n",
    "            print()\n",
    "            print(f\"The specified character is not supported, try again.\\n\")"
   ]
  },
  {
   "cell_type": "markdown",
   "id": "ef5c2ddc",
   "metadata": {},
   "source": [
    "### 4. Below is the program `codeblock` with:\n",
    "> #### 4.1. While loop for infinite program operation with incorrect input protection.\n",
    "> #### 4.2. Statements for program options selection."
   ]
  },
  {
   "cell_type": "code",
   "execution_count": null,
   "id": "ee04f3dd",
   "metadata": {},
   "outputs": [],
   "source": [
    "load_current_from_file()\n",
    "load_completed_from_file()\n",
    "\n",
    "while True:\n",
    "    try:\n",
    "\n",
    "        print(f\"Main menu:\\n\")\n",
    "        print(\"1. View current tasks.\")\n",
    "        print(\"2. Add current task.\")\n",
    "        print(\"3. Delete current task.\")\n",
    "        print(\"4. Move current task to the completed ones.\")\n",
    "        print(\"5. Move all current tasks to the completed ones.\")\n",
    "        print(\"6. View tasks completed.\")\n",
    "        print(\"7. Clear the list of completed tasks.\")\n",
    "        print(f\"8. Terminate the program operation.\\n\")\n",
    "\n",
    "        selection = int(input(\"Select an available menu option: \"))\n",
    "        print()\n",
    "\n",
    "        if selection == 1:\n",
    "            show_tasks()\n",
    "        elif selection == 2:\n",
    "            add_to_list()\n",
    "        elif selection == 3:\n",
    "            delete_from_list()\n",
    "        elif selection == 4:\n",
    "            transfer_task()\n",
    "        elif selection == 5:\n",
    "            transfer_all()\n",
    "        elif selection == 6:\n",
    "            show_completed()\n",
    "        elif selection == 7:\n",
    "            clear_list()\n",
    "        elif selection == 8:\n",
    "            exit_system()\n",
    "        else:\n",
    "            print(f\"The number specified is not within the range of available menu options. Try again.\\n\")\n",
    "    except ValueError:\n",
    "        print()\n",
    "        print(f\"The specified character is not supported, try again.\\n\")"
   ]
  }
 ],
 "metadata": {
  "kernelspec": {
   "display_name": "Python 3 (ipykernel)",
   "language": "python",
   "name": "python3"
  },
  "language_info": {
   "codemirror_mode": {
    "name": "ipython",
    "version": 3
   },
   "file_extension": ".py",
   "mimetype": "text/x-python",
   "name": "python",
   "nbconvert_exporter": "python",
   "pygments_lexer": "ipython3",
   "version": "3.11.1"
  }
 },
 "nbformat": 4,
 "nbformat_minor": 5
}
